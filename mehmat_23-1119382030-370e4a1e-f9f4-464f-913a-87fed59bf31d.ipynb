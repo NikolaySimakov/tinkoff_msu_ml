{
 "cells": [
  {
   "cell_type": "markdown",
   "metadata": {},
   "source": [
    "Добро пожаловать в отбор на спецсеминар Тинькофф х Мехмат 23/24. Внимательно читайте задания и не забывайте отвечать на вопросы. Ваши текстовые ответы влияют на оценивание так же, как и корректность и качество кода.\n",
    "\n",
    "Небольшая подсказка. Не нужно писать функции с нуля. Если вы знаете, в какой библиотеке реализована нужная вам функциональность, обязательно импортируйте ее😉\n",
    "\n",
    "Успехов!"
   ]
  },
  {
   "cell_type": "code",
   "execution_count": 22,
   "metadata": {},
   "outputs": [],
   "source": [
    "import pandas as pd\n",
    "import numpy as np\n",
    "import matplotlib.pyplot as plt"
   ]
  },
  {
   "cell_type": "code",
   "execution_count": 23,
   "metadata": {},
   "outputs": [
    {
     "name": "stdout",
     "output_type": "stream",
     "text": [
      "<class 'pandas.core.frame.DataFrame'>\n",
      "RangeIndex: 5000 entries, 0 to 4999\n",
      "Data columns (total 7 columns):\n",
      " #   Column      Non-Null Count  Dtype  \n",
      "---  ------      --------------  -----  \n",
      " 0   f1          5000 non-null   float64\n",
      " 1   f2          5000 non-null   float64\n",
      " 2   f3          5000 non-null   float64\n",
      " 3   f4          5000 non-null   float64\n",
      " 4   f5          5000 non-null   float64\n",
      " 5   target      5000 non-null   int64  \n",
      " 6   quarter_dt  5000 non-null   object \n",
      "dtypes: float64(5), int64(1), object(1)\n",
      "memory usage: 273.6+ KB\n"
     ]
    }
   ],
   "source": [
    "df = pd.read_csv('./mm_sem_2023.csv')\n",
    "df.info()"
   ]
  },
  {
   "cell_type": "code",
   "execution_count": 24,
   "metadata": {},
   "outputs": [],
   "source": [
    "# В дополнение, сразу преобразуем даты в кварталы, для следующих заданий\n",
    "\n",
    "df['quarter_dt'] = pd.to_datetime(df['quarter_dt'])\n",
    "df['quarter'] = df['quarter_dt'].dt.to_period('Q')\n",
    "df['quarter'] = df['quarter'].dt.quarter\n",
    "df.drop('quarter_dt', axis=1, inplace=True)"
   ]
  },
  {
   "cell_type": "markdown",
   "metadata": {},
   "source": [
    "# Задание 0. Загрузка данных и разведочный анализ."
   ]
  },
  {
   "cell_type": "markdown",
   "metadata": {},
   "source": [
    "Скачайте датасет `mm_sem_2023.csv` по [ссылке](https://data.tinkoff.ru/s/MfSgi5rfNEJGPgF). Пароль: **`x3S*b@J**\n",
    "\n",
    "В датасете есть признаки `f1`-`f5`, целевая переменная `target`, а также временная метка каждого наблюдения `quarter_dt`. Загрузите датасет в ноутбук, выполните разведочный анализ и ответьте на вопросы:\n",
    "\n",
    "1. Расчитайте статистики признаков и таргета (среднее, медиана, стандартное отклонение, минимум, максимум). *Для чего нужно смотреть на эти статистики? Какие проблемы в данных можно так обнаружить?*"
   ]
  },
  {
   "cell_type": "code",
   "execution_count": 25,
   "metadata": {},
   "outputs": [
    {
     "data": {
      "text/html": [
       "<div>\n",
       "<style scoped>\n",
       "    .dataframe tbody tr th:only-of-type {\n",
       "        vertical-align: middle;\n",
       "    }\n",
       "\n",
       "    .dataframe tbody tr th {\n",
       "        vertical-align: top;\n",
       "    }\n",
       "\n",
       "    .dataframe thead th {\n",
       "        text-align: right;\n",
       "    }\n",
       "</style>\n",
       "<table border=\"1\" class=\"dataframe\">\n",
       "  <thead>\n",
       "    <tr style=\"text-align: right;\">\n",
       "      <th></th>\n",
       "      <th>f1</th>\n",
       "      <th>f2</th>\n",
       "      <th>f3</th>\n",
       "      <th>f4</th>\n",
       "      <th>f5</th>\n",
       "      <th>target</th>\n",
       "      <th>quarter</th>\n",
       "    </tr>\n",
       "  </thead>\n",
       "  <tbody>\n",
       "    <tr>\n",
       "      <th>mean</th>\n",
       "      <td>-0.509316</td>\n",
       "      <td>-0.527417</td>\n",
       "      <td>0.045004</td>\n",
       "      <td>0.273515</td>\n",
       "      <td>-0.004194</td>\n",
       "      <td>0.501400</td>\n",
       "      <td>2.518800</td>\n",
       "    </tr>\n",
       "    <tr>\n",
       "      <th>median</th>\n",
       "      <td>-0.626253</td>\n",
       "      <td>-0.570927</td>\n",
       "      <td>0.051334</td>\n",
       "      <td>0.370586</td>\n",
       "      <td>0.293907</td>\n",
       "      <td>1.000000</td>\n",
       "      <td>3.000000</td>\n",
       "    </tr>\n",
       "    <tr>\n",
       "      <th>std</th>\n",
       "      <td>1.224053</td>\n",
       "      <td>1.386525</td>\n",
       "      <td>1.091565</td>\n",
       "      <td>1.550531</td>\n",
       "      <td>1.439814</td>\n",
       "      <td>0.500048</td>\n",
       "      <td>1.111528</td>\n",
       "    </tr>\n",
       "    <tr>\n",
       "      <th>min</th>\n",
       "      <td>-4.984914</td>\n",
       "      <td>-4.896355</td>\n",
       "      <td>-3.927267</td>\n",
       "      <td>-5.401335</td>\n",
       "      <td>-5.372376</td>\n",
       "      <td>0.000000</td>\n",
       "      <td>1.000000</td>\n",
       "    </tr>\n",
       "    <tr>\n",
       "      <th>max</th>\n",
       "      <td>2.875604</td>\n",
       "      <td>4.355007</td>\n",
       "      <td>3.728363</td>\n",
       "      <td>5.431503</td>\n",
       "      <td>3.561569</td>\n",
       "      <td>1.000000</td>\n",
       "      <td>4.000000</td>\n",
       "    </tr>\n",
       "  </tbody>\n",
       "</table>\n",
       "</div>"
      ],
      "text/plain": [
       "              f1        f2        f3        f4        f5    target   quarter\n",
       "mean   -0.509316 -0.527417  0.045004  0.273515 -0.004194  0.501400  2.518800\n",
       "median -0.626253 -0.570927  0.051334  0.370586  0.293907  1.000000  3.000000\n",
       "std     1.224053  1.386525  1.091565  1.550531  1.439814  0.500048  1.111528\n",
       "min    -4.984914 -4.896355 -3.927267 -5.401335 -5.372376  0.000000  1.000000\n",
       "max     2.875604  4.355007  3.728363  5.431503  3.561569  1.000000  4.000000"
      ]
     },
     "execution_count": 25,
     "metadata": {},
     "output_type": "execute_result"
    }
   ],
   "source": [
    "df.agg(['mean', 'median', 'std', 'min', 'max'])"
   ]
  },
  {
   "cell_type": "markdown",
   "metadata": {},
   "source": [
    "Благодаря данным статистикам можно многое узнать о выборке: \n",
    "  \n",
    "- Разброс между значениями\n",
    "- Выбросы в данных\n",
    "- Насколько данные для одного признака отличны друг от друга\n",
    "\n",
    "Проблемы:\n",
    "- Выбросы\n",
    "- Неравномерность распределения\n",
    "- Асимметрия (если медиана сильно отличается от среднего, работает для числовых признаков)"
   ]
  },
  {
   "cell_type": "markdown",
   "metadata": {},
   "source": [
    "2. Расчитайте корреляционную матрицу признаков. *Как влияет корреляция в переменных на линейную модель (не важно – регрессия или классификация)?*"
   ]
  },
  {
   "cell_type": "code",
   "execution_count": 26,
   "metadata": {},
   "outputs": [
    {
     "data": {
      "text/html": [
       "<div>\n",
       "<style scoped>\n",
       "    .dataframe tbody tr th:only-of-type {\n",
       "        vertical-align: middle;\n",
       "    }\n",
       "\n",
       "    .dataframe tbody tr th {\n",
       "        vertical-align: top;\n",
       "    }\n",
       "\n",
       "    .dataframe thead th {\n",
       "        text-align: right;\n",
       "    }\n",
       "</style>\n",
       "<table border=\"1\" class=\"dataframe\">\n",
       "  <thead>\n",
       "    <tr style=\"text-align: right;\">\n",
       "      <th></th>\n",
       "      <th>f1</th>\n",
       "      <th>f2</th>\n",
       "      <th>f3</th>\n",
       "      <th>f4</th>\n",
       "      <th>f5</th>\n",
       "      <th>target</th>\n",
       "      <th>quarter</th>\n",
       "    </tr>\n",
       "  </thead>\n",
       "  <tbody>\n",
       "    <tr>\n",
       "      <th>f1</th>\n",
       "      <td>1.000000</td>\n",
       "      <td>-0.082772</td>\n",
       "      <td>0.646622</td>\n",
       "      <td>0.465942</td>\n",
       "      <td>-0.290140</td>\n",
       "      <td>-0.393534</td>\n",
       "      <td>-0.004231</td>\n",
       "    </tr>\n",
       "    <tr>\n",
       "      <th>f2</th>\n",
       "      <td>-0.082772</td>\n",
       "      <td>1.000000</td>\n",
       "      <td>-0.808929</td>\n",
       "      <td>-0.919560</td>\n",
       "      <td>0.181372</td>\n",
       "      <td>-0.373522</td>\n",
       "      <td>0.015998</td>\n",
       "    </tr>\n",
       "    <tr>\n",
       "      <th>f3</th>\n",
       "      <td>0.646622</td>\n",
       "      <td>-0.808929</td>\n",
       "      <td>1.000000</td>\n",
       "      <td>0.968193</td>\n",
       "      <td>-0.226628</td>\n",
       "      <td>0.048707</td>\n",
       "      <td>-0.012858</td>\n",
       "    </tr>\n",
       "    <tr>\n",
       "      <th>f4</th>\n",
       "      <td>0.465942</td>\n",
       "      <td>-0.919560</td>\n",
       "      <td>0.968193</td>\n",
       "      <td>1.000000</td>\n",
       "      <td>-0.310044</td>\n",
       "      <td>0.179367</td>\n",
       "      <td>-0.016630</td>\n",
       "    </tr>\n",
       "    <tr>\n",
       "      <th>f5</th>\n",
       "      <td>-0.290140</td>\n",
       "      <td>0.181372</td>\n",
       "      <td>-0.226628</td>\n",
       "      <td>-0.310044</td>\n",
       "      <td>1.000000</td>\n",
       "      <td>-0.013205</td>\n",
       "      <td>0.023361</td>\n",
       "    </tr>\n",
       "    <tr>\n",
       "      <th>target</th>\n",
       "      <td>-0.393534</td>\n",
       "      <td>-0.373522</td>\n",
       "      <td>0.048707</td>\n",
       "      <td>0.179367</td>\n",
       "      <td>-0.013205</td>\n",
       "      <td>1.000000</td>\n",
       "      <td>0.004092</td>\n",
       "    </tr>\n",
       "    <tr>\n",
       "      <th>quarter</th>\n",
       "      <td>-0.004231</td>\n",
       "      <td>0.015998</td>\n",
       "      <td>-0.012858</td>\n",
       "      <td>-0.016630</td>\n",
       "      <td>0.023361</td>\n",
       "      <td>0.004092</td>\n",
       "      <td>1.000000</td>\n",
       "    </tr>\n",
       "  </tbody>\n",
       "</table>\n",
       "</div>"
      ],
      "text/plain": [
       "               f1        f2        f3        f4        f5    target   quarter\n",
       "f1       1.000000 -0.082772  0.646622  0.465942 -0.290140 -0.393534 -0.004231\n",
       "f2      -0.082772  1.000000 -0.808929 -0.919560  0.181372 -0.373522  0.015998\n",
       "f3       0.646622 -0.808929  1.000000  0.968193 -0.226628  0.048707 -0.012858\n",
       "f4       0.465942 -0.919560  0.968193  1.000000 -0.310044  0.179367 -0.016630\n",
       "f5      -0.290140  0.181372 -0.226628 -0.310044  1.000000 -0.013205  0.023361\n",
       "target  -0.393534 -0.373522  0.048707  0.179367 -0.013205  1.000000  0.004092\n",
       "quarter -0.004231  0.015998 -0.012858 -0.016630  0.023361  0.004092  1.000000"
      ]
     },
     "execution_count": 26,
     "metadata": {},
     "output_type": "execute_result"
    }
   ],
   "source": [
    "df.corr(numeric_only=True)"
   ]
  },
  {
   "cell_type": "markdown",
   "metadata": {},
   "source": [
    "Корреляция влияет на:\n",
    "- Стабильность оценок. У f3 и f4 корреляция близка к 1, это может привести к проблемам в оценке коэффициентов модели (модель будет чувствительна к изменениям в данных)\n",
    "- Точность модели: target слабо коррелирован с признаками, точность линейной модели не будет высокой"
   ]
  },
  {
   "cell_type": "markdown",
   "metadata": {},
   "source": [
    "# Задание 1. Считаем WoE по бакетам."
   ]
  },
  {
   "cell_type": "markdown",
   "metadata": {},
   "source": [
    "Разбейте каждый признак на 5 бакетов по квантилям (первый бакет – от 0 до 0.2 квантиля, второй – от 0.2 до 0.4 и т.д.).\n",
    "\n",
    "Для наблюдений, попавших в каждый бакет, расчитайте weight of evidence, $WoE$, по формуле:\n",
    "\n",
    "$$WoE_i = \\ln \\frac{B_i}{G_i} - \\ln \\frac{B}{G}$$\n",
    "\n",
    "Где $B_i$ – количество наблюдений с $y=1$ в бакете $i$ ($B$ – количество единиц по всей выборке). Аналогично $G_i$ – количество наблюдений с $y = 0$ в бакете $i$."
   ]
  },
  {
   "cell_type": "markdown",
   "metadata": {},
   "source": [
    "Для каждого признака расчитайте $WoE$ по бакетам и нарисуйте график (ось Х – номер бакета, ось Y – значение WoE). Сделайте вывод об информативности каждой переменной."
   ]
  },
  {
   "cell_type": "code",
   "execution_count": 27,
   "metadata": {},
   "outputs": [],
   "source": [
    "def calc_woe_by_bucket(x: pd.Series, y: pd.Series) -> pd.Series:\n",
    "    \n",
    "    \"\"\"\n",
    "    Разбивает признак на 5 бакетов по квантилям. В каждом бакете\n",
    "    считает WoE. Возвращает массив с WoE длины 5.\n",
    "    \"\"\"\n",
    "    \n",
    "    bins = np.quantile(x, q=np.linspace(0,1,min(6, x.nunique())))\n",
    "    x_binned = pd.cut(x, bins=bins, labels=False, include_lowest=True)\n",
    "    B = y.sum()\n",
    "    G = y.size - B\n",
    "    grouped = x_binned.groupby(x_binned)\n",
    "    B_i = grouped.agg(lambda x: y[x.index].sum())\n",
    "    G_i = grouped.size() - B_i\n",
    "    woe_i = np.log(B_i / G_i / B * G)\n",
    "    return woe_i"
   ]
  },
  {
   "cell_type": "code",
   "execution_count": 28,
   "metadata": {},
   "outputs": [
    {
     "data": {
      "image/png": "[encoded data removed]",
      "text/plain": [
       "<Figure size 1500x1500 with 6 Axes>"
      ]
     },
     "metadata": {},
     "output_type": "display_data"
    }
   ],
   "source": [
    "plt.figure(figsize=(15, 15))\n",
    "\n",
    "for i, feature in enumerate(df.columns[df.columns != 'target'], 1):\n",
    "    woe = calc_woe_by_bucket(df[feature], df['target'])\n",
    "    plt.subplot(3, 2, i)\n",
    "    plt.bar(range(1, woe.shape[0]+1), woe)\n",
    "    plt.title(f'WoE by Bucket for {feature}')\n",
    "    plt.xlabel('Bucket Number')\n",
    "    plt.ylabel('WoE')\n",
    "\n",
    "plt.tight_layout()\n",
    "plt.show()"
   ]
  },
  {
   "cell_type": "markdown",
   "metadata": {},
   "source": [
    "Выводы из графиков:\n",
    "\n",
    "- Признаки с 1 по 4 указывают на потенциально высокое значимость для модели.\n",
    "\n",
    "- Признак f5 - менее значим.\n",
    "\n",
    "- Признак quarter не сбалансирован"
   ]
  },
  {
   "cell_type": "markdown",
   "metadata": {},
   "source": [
    "# Задание 2. Доверительный интервал для WoE."
   ]
  },
  {
   "cell_type": "markdown",
   "metadata": {},
   "source": [
    "Модифицируйте функцию `calc_woe_by_bucket`. Добавьте в нее расчет 68%-доверительного интервала для WoE с помощью бутстрапа. Константу $\\ln \\frac{B}{G}$ при расчете считайте фиксированной. Постройте новый график WoE по бакетам с доверительными интервалами (ось Х – номер бакета, ось Y – значение WoE + доверительный интервал для него).\n",
    "\n",
    "Для каких переменных можно изменить вывод об информативности, посмотрев на доверительные интервалы?"
   ]
  },
  {
   "cell_type": "code",
   "execution_count": 37,
   "metadata": {},
   "outputs": [],
   "source": [
    "from typing import Tuple\n",
    "\n",
    "def calc_woe_by_bucket_ci(x: pd.Series, y: pd.Series) -> Tuple[pd.Series]:\n",
    "   \"\"\"Разбивает признак на 5 бакетов по квантилям. В каждом бакете\n",
    "   считает WoE и доверительные интервалы. Возвращает три массива длины 5:\n",
    "    - woe в бакете\n",
    "    - верхняя граница дов. интервала\n",
    "    - нижняя граница дов. интервала\n",
    "   \"\"\"\n",
    "   bootstrapped_woes = []\n",
    "   B = y.sum()\n",
    "   G = y.size - B\n",
    "   C = np.log(B / G)\n",
    "\n",
    "   for _ in range(1000):\n",
    "       indices = np.random.choice(x.index, size=len(x), replace=True)\n",
    "       sample_x = x.loc[indices]\n",
    "       sample_y = y.loc[indices]\n",
    "\n",
    "       # Расчет WoE для подвыборки\n",
    "       bins = np.quantile(sample_x, q=np.linspace(0,1,min(6, x.nunique())))\n",
    "       x_binned = pd.cut(sample_x, bins=bins, labels=False, include_lowest=True)\n",
    "       grouped = x_binned.groupby(x_binned)\n",
    "       B_i = grouped.agg(lambda _sample_x: sample_y[_sample_x.index].sum())\n",
    "       G_i = grouped.size() - B_i\n",
    "       woe_i = np.log(B_i / G_i) - C\n",
    "       bootstrapped_woes.extend(woe_i)\n",
    "\n",
    "   # Расчет 68% доверительного интервала\n",
    "   lower = np.percentile(bootstrapped_woes, 16)\n",
    "   upper = np.percentile(bootstrapped_woes, 84)\n",
    "\n",
    "   return woe, lower, upper"
   ]
  },
  {
   "cell_type": "code",
   "execution_count": null,
   "metadata": {},
   "outputs": [],
   "source": [
    "plt.figure(figsize=(15, 10))\n",
    "\n",
    "for i, feature in enumerate(df.columns[df.columns != 'target'], 1):\n",
    "    woe, lower, upper = calc_woe_by_bucket_ci(df[feature], df['target'])\n",
    "    plt.subplot(3, 2, i)\n",
    "    plt.errorbar(range(len(woe)), woe, yerr=[woe - lower, upper - woe], fmt='o', ecolor='r', capsize=5, label='WoE with CI')\n",
    "    plt.xlabel('Bucket Number')\n",
    "    plt.ylabel('WoE Value')\n",
    "    plt.title(f'WoE by {feature} with 68% Confidence Intervals')\n",
    "    plt.grid(True)\n",
    "    plt.legend()\n",
    "\n",
    "plt.tight_layout()\n",
    "plt.show()"
   ]
  },
  {
   "cell_type": "markdown",
   "metadata": {},
   "source": [
    "# Задание 3. Строим модель."
   ]
  },
  {
   "cell_type": "markdown",
   "metadata": {},
   "source": [
    "Разбейте выборку на трейн (1 полугодие 2022) и тест (2 полугодие). Стандартизуйте переменные и обучите логистическую регрессию. Постройте график ROC AUC этой модели поквартально, отделив трейн и тест вертикальной линией (ось Х – квартал, ось Y – значение ROC AUC)."
   ]
  },
  {
   "cell_type": "code",
   "execution_count": 31,
   "metadata": {},
   "outputs": [],
   "source": [
    "from sklearn.model_selection import train_test_split\n",
    "from sklearn.linear_model import LogisticRegression\n",
    "from sklearn.metrics import roc_curve, auc\n",
    "from sklearn.preprocessing import StandardScaler"
   ]
  },
  {
   "cell_type": "code",
   "execution_count": 32,
   "metadata": {},
   "outputs": [
    {
     "data": {
      "text/plain": [
       "(            f1        f2        f3        f4        f5  quarter\n",
       " 3781  0.094346 -1.092801  0.784383  1.080727  0.967875        3\n",
       " 3780  0.737580  1.157676 -0.445528 -0.697096 -2.033919        3\n",
       " 3554 -2.678097  1.857464 -2.569672 -3.134750  0.253545        3\n",
       " 3787 -0.545842  0.694482 -0.835637 -0.876069 -1.684131        3\n",
       " 3346  1.382350  0.718543  0.204447  0.027174 -1.567220        3\n",
       " ...        ...       ...       ...       ...       ...      ...\n",
       " 3927 -2.794658 -0.007210 -1.465651 -1.372827  0.685477        4\n",
       " 287   0.603311  2.113303 -0.805860 -1.886832  2.271828        4\n",
       " 3924 -2.477958 -0.031703 -1.373062 -1.137087 -0.687842        4\n",
       " 1393 -2.323447  1.988673 -2.426994 -3.111338  0.693515        4\n",
       " 976  -2.661835  0.430272 -1.630029 -1.758439  1.128692        4\n",
       " \n",
       " [2500 rows x 6 columns],\n",
       "             f1        f2        f3        f4        f5  quarter\n",
       " 3781  0.094346 -1.092801  0.784383  1.080727  0.967875        3\n",
       " 3780  0.737580  1.157676 -0.445528 -0.697096 -2.033919        3\n",
       " 3554 -2.678097  1.857464 -2.569672 -3.134750  0.253545        3\n",
       " 3787 -0.545842  0.694482 -0.835637 -0.876069 -1.684131        3\n",
       " 3346  1.382350  0.718543  0.204447  0.027174 -1.567220        3\n",
       " ...        ...       ...       ...       ...       ...      ...\n",
       " 3927 -2.794658 -0.007210 -1.465651 -1.372827  0.685477        4\n",
       " 287   0.603311  2.113303 -0.805860 -1.886832  2.271828        4\n",
       " 3924 -2.477958 -0.031703 -1.373062 -1.137087 -0.687842        4\n",
       " 1393 -2.323447  1.988673 -2.426994 -3.111338  0.693515        4\n",
       " 976  -2.661835  0.430272 -1.630029 -1.758439  1.128692        4\n",
       " \n",
       " [2500 rows x 6 columns])"
      ]
     },
     "execution_count": 32,
     "metadata": {},
     "output_type": "execute_result"
    }
   ],
   "source": [
    "df_final = df.sort_values(by=['quarter'])\n",
    "\n",
    "y = df_final['target']\n",
    "X = df_final.drop(['target'], axis=1)\n",
    "X_train, X_test, y_train, y_test = train_test_split(X, y, test_size=0.5, shuffle=False)\n",
    "X_test, X_test"
   ]
  },
  {
   "cell_type": "code",
   "execution_count": 33,
   "metadata": {},
   "outputs": [],
   "source": [
    "scaler = StandardScaler()\n",
    "X_train = scaler.fit_transform(X_train)\n",
    "X_test = scaler.transform(X_test)\n",
    "\n",
    "clf = LogisticRegression(random_state=42).fit(X_train, y_train)\n"
   ]
  },
  {
   "cell_type": "code",
   "execution_count": 34,
   "metadata": {},
   "outputs": [
    {
     "name": "stderr",
     "output_type": "stream",
     "text": [
      "/opt/homebrew/lib/python3.11/site-packages/sklearn/base.py:458: UserWarning: X has feature names, but LogisticRegression was fitted without feature names\n",
      "  warnings.warn(\n"
     ]
    },
    {
     "data": {
      "image/png": "[encoded data removed]",
      "text/plain": [
       "<Figure size 640x480 with 1 Axes>"
      ]
     },
     "metadata": {},
     "output_type": "display_data"
    }
   ],
   "source": [
    "y_score = clf.predict_proba(X)[:, 1]\n",
    "fpr_test, tpr_test, _ = roc_curve(y, y_score)\n",
    "roc_auc_test = auc(fpr_test, tpr_test)\n",
    "\n",
    "plt.plot(fpr_test, tpr_test, color='darkorange', lw=2, label='ROC curve (area = %0.2f)' % roc_auc_test)\n",
    "plt.plot([0, 1], [0, 1], color='navy', lw=2, linestyle='--')\n",
    "# plt.plot(X_test['quarter_int'].unique(), quarterly_roc_auc)\n",
    "plt.axvline(x=X_train.size / (X_train.size + X_test.size), color='r', linestyle='--')\n",
    "plt.xlim([0.0, 1.0])\n",
    "plt.ylim([0.0, 1.05])\n",
    "plt.xlabel('Quarter')\n",
    "plt.ylabel('ROC AUC')\n",
    "plt.show()"
   ]
  },
  {
   "cell_type": "markdown",
   "metadata": {},
   "source": [
    "Посмотрите на коэффициенты модели. Какие признаки оказались наименее информативными? Совпадает ли это с выводами на основе WoE?"
   ]
  },
  {
   "cell_type": "code",
   "execution_count": 35,
   "metadata": {},
   "outputs": [
    {
     "data": {
      "text/plain": [
       "array([[-1.38796383, -0.97622245, -0.10791917,  0.33428917, -0.18963165,\n",
       "        -0.01191634]])"
      ]
     },
     "execution_count": 35,
     "metadata": {},
     "output_type": "execute_result"
    }
   ],
   "source": [
    "# Посмотрим коэффициенты классификатора\n",
    "clf.coef_"
   ]
  },
  {
   "cell_type": "markdown",
   "metadata": {},
   "source": [
    "Первый коэффициент выглядит наиболее значимым, последний - наименее, как и в предыдущих пунках. Проверим t-тестом на значимость коэффициентов для множественной регрессии:"
   ]
  },
  {
   "cell_type": "code",
   "execution_count": 36,
   "metadata": {},
   "outputs": [
    {
     "name": "stdout",
     "output_type": "stream",
     "text": [
      "For coef by index = 0 t-statistic: 50.757458657987414 p-value: 0.0\n",
      "For coef by index = 1 t-statistic: 22.88841458087349 p-value: 2.391544663454158e-110\n",
      "For coef by index = 2 t-statistic: 9.906243142858377 p-value: 6.352197216273506e-23\n",
      "For coef by index = 3 t-statistic: -2.771560162787373 p-value: 0.005599474254428477\n",
      "For coef by index = 4 t-statistic: 9.107041315655069 p-value: 1.1994855703857663e-19\n",
      "For coef by index = 5 t-statistic: 72.58691715277396 p-value: 0.0\n"
     ]
    }
   ],
   "source": [
    "from scipy import stats\n",
    "\n",
    "for i in range(clf.coef_.size):\n",
    "  \n",
    "  '''\n",
    "  Построим гипотезу для каждого коэффициента и протестируем t-тестом\n",
    "  \n",
    "  H_0: переменная coef не влияет на y (coef == 0)\n",
    "  H_1: coef != 0\n",
    "  '''\n",
    "  \n",
    "  coef = clf.coef_[0][i]\n",
    "  _col = df_final.iloc[:, i]\n",
    "  t_stat, p_val = stats.ttest_1samp(_col.to_numpy(), coef)\n",
    "  print(\"For coef by index =\", i, \"t-statistic:\", t_stat, \"p-value:\", p_val)\n"
   ]
  },
  {
   "cell_type": "markdown",
   "metadata": {},
   "source": [
    "Из p-value делаем вывод, что для каждого коэффициента нулевая гипотеза отклоняется и нельзя утверждать, что коэффициенты незначимы, то есть они оказывают влияние на y. "
   ]
  }
 ],
 "metadata": {
  "kernelspec": {
   "display_name": "gandalf",
   "language": "python",
   "name": "python3"
  },
  "language_info": {
   "codemirror_mode": {
    "name": "ipython",
    "version": 3
   },
   "file_extension": ".py",
   "mimetype": "text/x-python",
   "name": "python",
   "nbconvert_exporter": "python",
   "pygments_lexer": "ipython3",
   "version": "3.11.6"
  }
 },
 "nbformat": 4,
 "nbformat_minor": 2
}
